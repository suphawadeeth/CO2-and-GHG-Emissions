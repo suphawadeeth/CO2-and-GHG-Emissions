{
 "cells": [
  {
   "cell_type": "markdown",
   "id": "19b06f68",
   "metadata": {},
   "source": [
    "# Exploration on CO<sub>2</sub> and Greenhouse Gases (GHGs) Emissions\n"
   ]
  },
  {
   "cell_type": "markdown",
   "id": "33a73b24",
   "metadata": {},
   "source": [
    "### Data Source: Our World in Data\n",
    "\n",
    "Data from Feenstra et al. (2015) Penn World Table v10.0 via Our World in Data.\n",
    "\n",
    "- Feenstra, Robert C., Robert Inklaar and Marcel P. Timmer (2015), \n",
    "  “The Next Generation of the Penn World Table” American Economic Review, 105(10), 3150-3182\n",
    "- Max Roser (2013) – “Economic Growth”. Published online at OurWorldInData.org. \n",
    "  Retrieved from: ‘https://ourworldindata.org/economic-growth’ [Online Resource]\n",
    "\n",
    "___"
   ]
  },
  {
   "cell_type": "markdown",
   "id": "8364c9c4",
   "metadata": {},
   "source": [
    "# 01 Import Libraries"
   ]
  },
  {
   "cell_type": "code",
   "execution_count": 1,
   "id": "bf428ddc",
   "metadata": {},
   "outputs": [],
   "source": [
    "import pandas as pd\n",
    "import matplotlib.pyplot as plt\n",
    "import seaborn as sns\n",
    "import missingno as msno\n",
    "from scipy.stats import linregress\n",
    "\n",
    "import warnings\n",
    "warnings.filterwarnings('ignore')"
   ]
  },
  {
   "cell_type": "markdown",
   "id": "93c73428",
   "metadata": {},
   "source": [
    "___\n",
    "\n",
    "# 02 Data Cleaning"
   ]
  },
  {
   "cell_type": "code",
   "execution_count": 2,
   "id": "979708d3",
   "metadata": {},
   "outputs": [],
   "source": [
    "# Load the dataset\n",
    "df = pd.read_csv('owid-co2-data.csv')"
   ]
  },
  {
   "cell_type": "markdown",
   "id": "686b7c2b",
   "metadata": {},
   "source": [
    "### Check Main Feathurs (head, shape, info)"
   ]
  },
  {
   "cell_type": "markdown",
   "id": "bb9bf095",
   "metadata": {},
   "source": [
    "This dataset contains:\n",
    "- 50191 entries --> next, check the duplicated data\n",
    "- 79 columns \n",
    "    - which two columns are categorical data: 'country' and 'iso_code'\n",
    "    - the rest are numerical data\n",
    "\n",
    "NaNs were observed in the dataset. --> next, check if some entries might contain empty space (white space)\n",
    "\n"
   ]
  },
  {
   "cell_type": "code",
   "execution_count": 3,
   "id": "e51d3ec2",
   "metadata": {},
   "outputs": [
    {
     "data": {
      "text/html": [
       "<div>\n",
       "<style scoped>\n",
       "    .dataframe tbody tr th:only-of-type {\n",
       "        vertical-align: middle;\n",
       "    }\n",
       "\n",
       "    .dataframe tbody tr th {\n",
       "        vertical-align: top;\n",
       "    }\n",
       "\n",
       "    .dataframe thead th {\n",
       "        text-align: right;\n",
       "    }\n",
       "</style>\n",
       "<table border=\"1\" class=\"dataframe\">\n",
       "  <thead>\n",
       "    <tr style=\"text-align: right;\">\n",
       "      <th></th>\n",
       "      <th>country</th>\n",
       "      <th>year</th>\n",
       "      <th>iso_code</th>\n",
       "      <th>population</th>\n",
       "      <th>gdp</th>\n",
       "      <th>cement_co2</th>\n",
       "      <th>cement_co2_per_capita</th>\n",
       "      <th>co2</th>\n",
       "      <th>co2_growth_abs</th>\n",
       "      <th>co2_growth_prct</th>\n",
       "      <th>...</th>\n",
       "      <th>share_global_other_co2</th>\n",
       "      <th>share_of_temperature_change_from_ghg</th>\n",
       "      <th>temperature_change_from_ch4</th>\n",
       "      <th>temperature_change_from_co2</th>\n",
       "      <th>temperature_change_from_ghg</th>\n",
       "      <th>temperature_change_from_n2o</th>\n",
       "      <th>total_ghg</th>\n",
       "      <th>total_ghg_excluding_lucf</th>\n",
       "      <th>trade_co2</th>\n",
       "      <th>trade_co2_share</th>\n",
       "    </tr>\n",
       "  </thead>\n",
       "  <tbody>\n",
       "    <tr>\n",
       "      <th>0</th>\n",
       "      <td>Afghanistan</td>\n",
       "      <td>1750</td>\n",
       "      <td>AFG</td>\n",
       "      <td>2802560.0</td>\n",
       "      <td>NaN</td>\n",
       "      <td>0.0</td>\n",
       "      <td>0.0</td>\n",
       "      <td>NaN</td>\n",
       "      <td>NaN</td>\n",
       "      <td>NaN</td>\n",
       "      <td>...</td>\n",
       "      <td>NaN</td>\n",
       "      <td>NaN</td>\n",
       "      <td>NaN</td>\n",
       "      <td>NaN</td>\n",
       "      <td>NaN</td>\n",
       "      <td>NaN</td>\n",
       "      <td>NaN</td>\n",
       "      <td>NaN</td>\n",
       "      <td>NaN</td>\n",
       "      <td>NaN</td>\n",
       "    </tr>\n",
       "    <tr>\n",
       "      <th>1</th>\n",
       "      <td>Afghanistan</td>\n",
       "      <td>1751</td>\n",
       "      <td>AFG</td>\n",
       "      <td>NaN</td>\n",
       "      <td>NaN</td>\n",
       "      <td>0.0</td>\n",
       "      <td>NaN</td>\n",
       "      <td>NaN</td>\n",
       "      <td>NaN</td>\n",
       "      <td>NaN</td>\n",
       "      <td>...</td>\n",
       "      <td>NaN</td>\n",
       "      <td>NaN</td>\n",
       "      <td>NaN</td>\n",
       "      <td>NaN</td>\n",
       "      <td>NaN</td>\n",
       "      <td>NaN</td>\n",
       "      <td>NaN</td>\n",
       "      <td>NaN</td>\n",
       "      <td>NaN</td>\n",
       "      <td>NaN</td>\n",
       "    </tr>\n",
       "    <tr>\n",
       "      <th>2</th>\n",
       "      <td>Afghanistan</td>\n",
       "      <td>1752</td>\n",
       "      <td>AFG</td>\n",
       "      <td>NaN</td>\n",
       "      <td>NaN</td>\n",
       "      <td>0.0</td>\n",
       "      <td>NaN</td>\n",
       "      <td>NaN</td>\n",
       "      <td>NaN</td>\n",
       "      <td>NaN</td>\n",
       "      <td>...</td>\n",
       "      <td>NaN</td>\n",
       "      <td>NaN</td>\n",
       "      <td>NaN</td>\n",
       "      <td>NaN</td>\n",
       "      <td>NaN</td>\n",
       "      <td>NaN</td>\n",
       "      <td>NaN</td>\n",
       "      <td>NaN</td>\n",
       "      <td>NaN</td>\n",
       "      <td>NaN</td>\n",
       "    </tr>\n",
       "    <tr>\n",
       "      <th>3</th>\n",
       "      <td>Afghanistan</td>\n",
       "      <td>1753</td>\n",
       "      <td>AFG</td>\n",
       "      <td>NaN</td>\n",
       "      <td>NaN</td>\n",
       "      <td>0.0</td>\n",
       "      <td>NaN</td>\n",
       "      <td>NaN</td>\n",
       "      <td>NaN</td>\n",
       "      <td>NaN</td>\n",
       "      <td>...</td>\n",
       "      <td>NaN</td>\n",
       "      <td>NaN</td>\n",
       "      <td>NaN</td>\n",
       "      <td>NaN</td>\n",
       "      <td>NaN</td>\n",
       "      <td>NaN</td>\n",
       "      <td>NaN</td>\n",
       "      <td>NaN</td>\n",
       "      <td>NaN</td>\n",
       "      <td>NaN</td>\n",
       "    </tr>\n",
       "    <tr>\n",
       "      <th>4</th>\n",
       "      <td>Afghanistan</td>\n",
       "      <td>1754</td>\n",
       "      <td>AFG</td>\n",
       "      <td>NaN</td>\n",
       "      <td>NaN</td>\n",
       "      <td>0.0</td>\n",
       "      <td>NaN</td>\n",
       "      <td>NaN</td>\n",
       "      <td>NaN</td>\n",
       "      <td>NaN</td>\n",
       "      <td>...</td>\n",
       "      <td>NaN</td>\n",
       "      <td>NaN</td>\n",
       "      <td>NaN</td>\n",
       "      <td>NaN</td>\n",
       "      <td>NaN</td>\n",
       "      <td>NaN</td>\n",
       "      <td>NaN</td>\n",
       "      <td>NaN</td>\n",
       "      <td>NaN</td>\n",
       "      <td>NaN</td>\n",
       "    </tr>\n",
       "  </tbody>\n",
       "</table>\n",
       "<p>5 rows × 79 columns</p>\n",
       "</div>"
      ],
      "text/plain": [
       "       country  year iso_code  population  gdp  cement_co2  \\\n",
       "0  Afghanistan  1750      AFG   2802560.0  NaN         0.0   \n",
       "1  Afghanistan  1751      AFG         NaN  NaN         0.0   \n",
       "2  Afghanistan  1752      AFG         NaN  NaN         0.0   \n",
       "3  Afghanistan  1753      AFG         NaN  NaN         0.0   \n",
       "4  Afghanistan  1754      AFG         NaN  NaN         0.0   \n",
       "\n",
       "   cement_co2_per_capita  co2  co2_growth_abs  co2_growth_prct  ...  \\\n",
       "0                    0.0  NaN             NaN              NaN  ...   \n",
       "1                    NaN  NaN             NaN              NaN  ...   \n",
       "2                    NaN  NaN             NaN              NaN  ...   \n",
       "3                    NaN  NaN             NaN              NaN  ...   \n",
       "4                    NaN  NaN             NaN              NaN  ...   \n",
       "\n",
       "   share_global_other_co2  share_of_temperature_change_from_ghg  \\\n",
       "0                     NaN                                   NaN   \n",
       "1                     NaN                                   NaN   \n",
       "2                     NaN                                   NaN   \n",
       "3                     NaN                                   NaN   \n",
       "4                     NaN                                   NaN   \n",
       "\n",
       "   temperature_change_from_ch4  temperature_change_from_co2  \\\n",
       "0                          NaN                          NaN   \n",
       "1                          NaN                          NaN   \n",
       "2                          NaN                          NaN   \n",
       "3                          NaN                          NaN   \n",
       "4                          NaN                          NaN   \n",
       "\n",
       "   temperature_change_from_ghg  temperature_change_from_n2o  total_ghg  \\\n",
       "0                          NaN                          NaN        NaN   \n",
       "1                          NaN                          NaN        NaN   \n",
       "2                          NaN                          NaN        NaN   \n",
       "3                          NaN                          NaN        NaN   \n",
       "4                          NaN                          NaN        NaN   \n",
       "\n",
       "   total_ghg_excluding_lucf  trade_co2  trade_co2_share  \n",
       "0                       NaN        NaN              NaN  \n",
       "1                       NaN        NaN              NaN  \n",
       "2                       NaN        NaN              NaN  \n",
       "3                       NaN        NaN              NaN  \n",
       "4                       NaN        NaN              NaN  \n",
       "\n",
       "[5 rows x 79 columns]"
      ]
     },
     "execution_count": 3,
     "metadata": {},
     "output_type": "execute_result"
    }
   ],
   "source": [
    "df.head()"
   ]
  },
  {
   "cell_type": "code",
   "execution_count": 4,
   "id": "d98d154b",
   "metadata": {},
   "outputs": [
    {
     "data": {
      "text/plain": [
       "(50191, 79)"
      ]
     },
     "execution_count": 4,
     "metadata": {},
     "output_type": "execute_result"
    }
   ],
   "source": [
    "df.shape"
   ]
  },
  {
   "cell_type": "code",
   "execution_count": 5,
   "id": "6a95527b",
   "metadata": {},
   "outputs": [
    {
     "name": "stdout",
     "output_type": "stream",
     "text": [
      "<class 'pandas.core.frame.DataFrame'>\n",
      "RangeIndex: 50191 entries, 0 to 50190\n",
      "Data columns (total 79 columns):\n",
      " #   Column                                     Non-Null Count  Dtype  \n",
      "---  ------                                     --------------  -----  \n",
      " 0   country                                    50191 non-null  object \n",
      " 1   year                                       50191 non-null  int64  \n",
      " 2   iso_code                                   42262 non-null  object \n",
      " 3   population                                 41019 non-null  float64\n",
      " 4   gdp                                        15251 non-null  float64\n",
      " 5   cement_co2                                 28863 non-null  float64\n",
      " 6   cement_co2_per_capita                      25358 non-null  float64\n",
      " 7   co2                                        29137 non-null  float64\n",
      " 8   co2_growth_abs                             26981 non-null  float64\n",
      " 9   co2_growth_prct                            26002 non-null  float64\n",
      " 10  co2_including_luc                          23585 non-null  float64\n",
      " 11  co2_including_luc_growth_abs               23285 non-null  float64\n",
      " 12  co2_including_luc_growth_prct              23285 non-null  float64\n",
      " 13  co2_including_luc_per_capita               23495 non-null  float64\n",
      " 14  co2_including_luc_per_gdp                  16790 non-null  float64\n",
      " 15  co2_including_luc_per_unit_energy          9701 non-null   float64\n",
      " 16  co2_per_capita                             26182 non-null  float64\n",
      " 17  co2_per_gdp                                17528 non-null  float64\n",
      " 18  co2_per_unit_energy                        10350 non-null  float64\n",
      " 19  coal_co2                                   21755 non-null  float64\n",
      " 20  coal_co2_per_capita                        21050 non-null  float64\n",
      " 21  consumption_co2                            4866 non-null   float64\n",
      " 22  consumption_co2_per_capita                 4502 non-null   float64\n",
      " 23  consumption_co2_per_gdp                    4444 non-null   float64\n",
      " 24  cumulative_cement_co2                      28841 non-null  float64\n",
      " 25  cumulative_co2                             27328 non-null  float64\n",
      " 26  cumulative_co2_including_luc               23585 non-null  float64\n",
      " 27  cumulative_coal_co2                        21755 non-null  float64\n",
      " 28  cumulative_flaring_co2                     15891 non-null  float64\n",
      " 29  cumulative_gas_co2                         18014 non-null  float64\n",
      " 30  cumulative_luc_co2                         37236 non-null  float64\n",
      " 31  cumulative_oil_co2                         25217 non-null  float64\n",
      " 32  cumulative_other_co2                       3202 non-null   float64\n",
      " 33  energy_per_capita                          10109 non-null  float64\n",
      " 34  energy_per_gdp                             7696 non-null   float64\n",
      " 35  flaring_co2                                15952 non-null  float64\n",
      " 36  flaring_co2_per_capita                     14694 non-null  float64\n",
      " 37  gas_co2                                    18014 non-null  float64\n",
      " 38  gas_co2_per_capita                         17292 non-null  float64\n",
      " 39  ghg_excluding_lucf_per_capita              35639 non-null  float64\n",
      " 40  ghg_per_capita                             35813 non-null  float64\n",
      " 41  land_use_change_co2                        37236 non-null  float64\n",
      " 42  land_use_change_co2_per_capita             36434 non-null  float64\n",
      " 43  methane                                    37410 non-null  float64\n",
      " 44  methane_per_capita                         35813 non-null  float64\n",
      " 45  nitrous_oxide                              38280 non-null  float64\n",
      " 46  nitrous_oxide_per_capita                   36320 non-null  float64\n",
      " 47  oil_co2                                    25218 non-null  float64\n",
      " 48  oil_co2_per_capita                         24436 non-null  float64\n",
      " 49  other_co2_per_capita                       2474 non-null   float64\n",
      " 50  other_industry_co2                         3202 non-null   float64\n",
      " 51  primary_energy_consumption                 10151 non-null  float64\n",
      " 52  share_global_cement_co2                    21960 non-null  float64\n",
      " 53  share_global_co2                           27328 non-null  float64\n",
      " 54  share_global_co2_including_luc             23585 non-null  float64\n",
      " 55  share_global_coal_co2                      21755 non-null  float64\n",
      " 56  share_global_cumulative_cement_co2         21960 non-null  float64\n",
      " 57  share_global_cumulative_co2                27328 non-null  float64\n",
      " 58  share_global_cumulative_co2_including_luc  23585 non-null  float64\n",
      " 59  share_global_cumulative_coal_co2           21755 non-null  float64\n",
      " 60  share_global_cumulative_flaring_co2        10869 non-null  float64\n",
      " 61  share_global_cumulative_gas_co2            15034 non-null  float64\n",
      " 62  share_global_cumulative_luc_co2            37236 non-null  float64\n",
      " 63  share_global_cumulative_oil_co2            23592 non-null  float64\n",
      " 64  share_global_cumulative_other_co2          2108 non-null   float64\n",
      " 65  share_global_flaring_co2                   10869 non-null  float64\n",
      " 66  share_global_gas_co2                       15034 non-null  float64\n",
      " 67  share_global_luc_co2                       37236 non-null  float64\n",
      " 68  share_global_oil_co2                       23592 non-null  float64\n",
      " 69  share_global_other_co2                     2108 non-null   float64\n",
      " 70  share_of_temperature_change_from_ghg       41001 non-null  float64\n",
      " 71  temperature_change_from_ch4                38060 non-null  float64\n",
      " 72  temperature_change_from_co2                41001 non-null  float64\n",
      " 73  temperature_change_from_ghg                41001 non-null  float64\n",
      " 74  temperature_change_from_n2o                38060 non-null  float64\n",
      " 75  total_ghg                                  37410 non-null  float64\n",
      " 76  total_ghg_excluding_lucf                   37236 non-null  float64\n",
      " 77  trade_co2                                  4535 non-null   float64\n",
      " 78  trade_co2_share                            4535 non-null   float64\n",
      "dtypes: float64(76), int64(1), object(2)\n",
      "memory usage: 30.3+ MB\n"
     ]
    }
   ],
   "source": [
    "df.info()"
   ]
  },
  {
   "cell_type": "markdown",
   "id": "870b7297",
   "metadata": {},
   "source": [
    "### Standardize column name following Pe-8 (snake case)\n",
    "\n",
    "Note that column names look like snake case, but there might be a case that it contains white space and we won't able to see it.\n",
    "\n",
    "\n",
    "Therefore it is a good practice to always make sure they are following Pe-8.\n",
    "\n",
    "\n",
    "As we work with big data, we do not always check column by column, rather, we manipulate them from the start."
   ]
  },
  {
   "cell_type": "code",
   "execution_count": 6,
   "id": "c32c9ecc",
   "metadata": {},
   "outputs": [],
   "source": [
    "# Rename the columns for clarity, make sure they are following Pe-8 rule\n",
    "df.columns = [df.columns[i].lower().replace(' ', '_') for i in range(len(df.columns))]\n",
    "\n",
    "# Check names of the column\n",
    "# df.columns.tolist()"
   ]
  },
  {
   "cell_type": "markdown",
   "id": "36dfa41e",
   "metadata": {},
   "source": [
    "### Cleaning Up Whitespace\n",
    "#### Remove whitespace from string values in all columns\n",
    "\n",
    "Make sure that all categorical variables (which contains string values) are cleaned"
   ]
  },
  {
   "cell_type": "code",
   "execution_count": 7,
   "id": "a9839ab9",
   "metadata": {},
   "outputs": [],
   "source": [
    "def whitespace_remover(df):\n",
    "    for i in df.columns:\n",
    "        if df[i].dtypes == 'object':\n",
    "            df[i] = df[i].str.strip()\n",
    "        else:\n",
    "            pass\n",
    "        \n",
    "whitespace_remover(df)"
   ]
  },
  {
   "cell_type": "markdown",
   "id": "857f1a79",
   "metadata": {},
   "source": [
    "### Dealing with Nulls"
   ]
  },
  {
   "cell_type": "markdown",
   "id": "c4330b2e",
   "metadata": {},
   "source": [
    "There are many NaNs in this dataset (check below)\n",
    "\n",
    "We will leave it for now. Until we want to extract insights from particular data, and the missing values might affect the results. "
   ]
  },
  {
   "cell_type": "code",
   "execution_count": 8,
   "id": "38c0af45",
   "metadata": {},
   "outputs": [
    {
     "data": {
      "text/plain": [
       "<AxesSubplot:>"
      ]
     },
     "execution_count": 8,
     "metadata": {},
     "output_type": "execute_result"
    },
    {
     "data": {
      "image/png": "[encoded data removed]",
      "text/plain": [
       "<Figure size 1800x720 with 2 Axes>"
      ]
     },
     "metadata": {
      "needs_background": "light"
     },
     "output_type": "display_data"
    }
   ],
   "source": [
    "# Visualize missing data\n",
    "msno.matrix(df)"
   ]
  },
  {
   "cell_type": "code",
   "execution_count": 9,
   "id": "474e373f",
   "metadata": {},
   "outputs": [
    {
     "data": {
      "text/html": [
       "<div>\n",
       "<style scoped>\n",
       "    .dataframe tbody tr th:only-of-type {\n",
       "        vertical-align: middle;\n",
       "    }\n",
       "\n",
       "    .dataframe tbody tr th {\n",
       "        vertical-align: top;\n",
       "    }\n",
       "\n",
       "    .dataframe thead th {\n",
       "        text-align: right;\n",
       "    }\n",
       "</style>\n",
       "<table border=\"1\" class=\"dataframe\">\n",
       "  <thead>\n",
       "    <tr style=\"text-align: right;\">\n",
       "      <th></th>\n",
       "      <th>%NaN</th>\n",
       "    </tr>\n",
       "  </thead>\n",
       "  <tbody>\n",
       "    <tr>\n",
       "      <th>country</th>\n",
       "      <td>0.00</td>\n",
       "    </tr>\n",
       "    <tr>\n",
       "      <th>year</th>\n",
       "      <td>0.00</td>\n",
       "    </tr>\n",
       "    <tr>\n",
       "      <th>iso_code</th>\n",
       "      <td>15.80</td>\n",
       "    </tr>\n",
       "    <tr>\n",
       "      <th>population</th>\n",
       "      <td>18.27</td>\n",
       "    </tr>\n",
       "    <tr>\n",
       "      <th>gdp</th>\n",
       "      <td>69.61</td>\n",
       "    </tr>\n",
       "    <tr>\n",
       "      <th>...</th>\n",
       "      <td>...</td>\n",
       "    </tr>\n",
       "    <tr>\n",
       "      <th>temperature_change_from_n2o</th>\n",
       "      <td>24.17</td>\n",
       "    </tr>\n",
       "    <tr>\n",
       "      <th>total_ghg</th>\n",
       "      <td>25.46</td>\n",
       "    </tr>\n",
       "    <tr>\n",
       "      <th>total_ghg_excluding_lucf</th>\n",
       "      <td>25.81</td>\n",
       "    </tr>\n",
       "    <tr>\n",
       "      <th>trade_co2</th>\n",
       "      <td>90.96</td>\n",
       "    </tr>\n",
       "    <tr>\n",
       "      <th>trade_co2_share</th>\n",
       "      <td>90.96</td>\n",
       "    </tr>\n",
       "  </tbody>\n",
       "</table>\n",
       "<p>79 rows × 1 columns</p>\n",
       "</div>"
      ],
      "text/plain": [
       "                              %NaN\n",
       "country                       0.00\n",
       "year                          0.00\n",
       "iso_code                     15.80\n",
       "population                   18.27\n",
       "gdp                          69.61\n",
       "...                            ...\n",
       "temperature_change_from_n2o  24.17\n",
       "total_ghg                    25.46\n",
       "total_ghg_excluding_lucf     25.81\n",
       "trade_co2                    90.96\n",
       "trade_co2_share              90.96\n",
       "\n",
       "[79 rows x 1 columns]"
      ]
     },
     "execution_count": 9,
     "metadata": {},
     "output_type": "execute_result"
    }
   ],
   "source": [
    "# Check %NaN\n",
    "nulls = pd.DataFrame(round(df.isna().sum()*100/len(df), 2))\n",
    "nulls.columns = nulls.column=['%NaN']\n",
    "nulls"
   ]
  },
  {
   "cell_type": "markdown",
   "id": "0d161370",
   "metadata": {},
   "source": [
    "### Check Duplicated Data Entries\n",
    "\n",
    "No duplicated data found."
   ]
  },
  {
   "cell_type": "code",
   "execution_count": 10,
   "id": "62c1aa9f",
   "metadata": {
    "scrolled": false
   },
   "outputs": [
    {
     "data": {
      "text/plain": [
       "0"
      ]
     },
     "execution_count": 10,
     "metadata": {},
     "output_type": "execute_result"
    }
   ],
   "source": [
    "# Check duplicated rows\n",
    "df.duplicated().sum()"
   ]
  },
  {
   "cell_type": "markdown",
   "id": "12269709",
   "metadata": {},
   "source": [
    "___\n",
    "\n",
    "# 03 Exploratory Data Analysis (EDA)"
   ]
  },
  {
   "cell_type": "markdown",
   "id": "4f26ac25",
   "metadata": {},
   "source": [
    "## EDA - Lead Questions\n",
    "\n",
    "### The Idea\n",
    "\n",
    "In 2024, global temperatures reached unprecedented levels, marking the warmest year on record. The World Meteorological Organization (WMO) reported that the global mean temperature was approximately 1.55°C above pre-industrial levels, surpassing the 1.5°C threshold set by the Paris Agreement for the first time. ([wmo.int](https://wmo.int/news/media-centre/wmo-confirms-2024-warmest-year-record-about-155degc-above-pre-industrial-level?utm_source=chatgpt.com))\n",
    "\n",
    "Similarly, the National Oceanic and Atmospheric Administration (NOAA) confirmed that Earth's average land and ocean surface temperature in 2024 was 1.29°C above the 20th-century average, making it the highest global temperature in NOAA’s 1850-2024 climate record. ([noaa.gov](https://www.noaa.gov/news/2024-was-worlds-warmest-year-on-record?utm_source=chatgpt.com))\n",
    "\n",
    "In addition, the [2024 Living Planet Report](https://livingplanet.panda.org/en-GB/) highlights a global crisis, revealing a catastrophic decline of 73% in wildlife populations over the last 50 years (1970-2020), as measured by the Living Planet Index (LPI).\n",
    "\n",
    "Such a drastic decline in biodiversity, coupled with the increasing global temperatures, cannot be ignored.\n",
    "\n",
    "### Why CO<sub>2</sub> and Greenhouse Gases?\n",
    "\n",
    "Many factors contribute to climate change and biodiversity loss, but one stands out as particularly significant—and potentially the most critical: the rise in global temperatures driven by increased CO<sub>2</sub> and greenhouse gases (GHGs) emissions. And the rate at which these gases are removed from the atmosphere can no longer keep pace with their accumulation, causing them to persist in the atmosphere for hundreds to thousands of years, resulting in a dramatic rise in global temperatures.\n",
    "\n",
    "In this analysis, we will explore how CO<sub>2</sub> and GHG emissions have changed over time and investigate the underlying patterns in relation to temperature changes.\n",
    "\n",
    "\n",
    "___\n"
   ]
  },
  {
   "cell_type": "markdown",
   "id": "02da6cdb",
   "metadata": {},
   "source": [
    "## 3.1 How Global CO₂ Emissions Have Changed Over Time\n",
    "\n",
    "To begin, let's examine the overall trend of CO<sub>2</sub> emissions on our planet."
   ]
  },
  {
   "cell_type": "markdown",
   "id": "e8784f03",
   "metadata": {},
   "source": [
    "Note that the dataset contains the amount of CO<sub>2</sub> and GHG emissions in million tonnes (Mt). To analyze trends on a global scale and keep the audience engaged, I choose to present the chart using a larger unit, such as gigatonnes (Gt).\n",
    "\n",
    "This approach simplifies the numbers, making the chart cleaner and easier to read. As a result, we convert the data into gigatonnes (Gt).\n",
    "\n",
    "However, the CO<sub>2</sub> data in million tonnes (Mt) is remained in the dataset because it is still needed for more smaller scale analyses, such as examining emissions at the sectoral or country level. Detailed local data is essential for such analyses.\n",
    "\n",
    "Therefore, I converted CO<sub>2</sub> (Mt) into CO<sub>2</sub> (Gt) and assigned it to a new column, 'co2_in_gt' (see code below)."
   ]
  },
  {
   "cell_type": "code",
   "execution_count": 11,
   "id": "6d3d8024",
   "metadata": {},
   "outputs": [],
   "source": [
    "# Convert 'co2' and 'total_ghg' from Mt to Gt\n",
    "df['co2_in_gt'] = df['co2'] / 1000\n",
    "df['ghg_in_gt'] = df['total_ghg'] / 1000"
   ]
  },
  {
   "cell_type": "code",
   "execution_count": 12,
   "id": "b1c41c69",
   "metadata": {},
   "outputs": [
    {
     "data": {
      "text/html": [
       "<div>\n",
       "<style scoped>\n",
       "    .dataframe tbody tr th:only-of-type {\n",
       "        vertical-align: middle;\n",
       "    }\n",
       "\n",
       "    .dataframe tbody tr th {\n",
       "        vertical-align: top;\n",
       "    }\n",
       "\n",
       "    .dataframe thead th {\n",
       "        text-align: right;\n",
       "    }\n",
       "</style>\n",
       "<table border=\"1\" class=\"dataframe\">\n",
       "  <thead>\n",
       "    <tr style=\"text-align: right;\">\n",
       "      <th></th>\n",
       "      <th>country</th>\n",
       "      <th>year</th>\n",
       "      <th>temperature_change_from_co2</th>\n",
       "      <th>co2_in_gt</th>\n",
       "      <th>ghg_in_gt</th>\n",
       "    </tr>\n",
       "  </thead>\n",
       "  <tbody>\n",
       "    <tr>\n",
       "      <th>0</th>\n",
       "      <td>Afghanistan</td>\n",
       "      <td>1750</td>\n",
       "      <td>NaN</td>\n",
       "      <td>NaN</td>\n",
       "      <td>NaN</td>\n",
       "    </tr>\n",
       "    <tr>\n",
       "      <th>1</th>\n",
       "      <td>Afghanistan</td>\n",
       "      <td>1751</td>\n",
       "      <td>NaN</td>\n",
       "      <td>NaN</td>\n",
       "      <td>NaN</td>\n",
       "    </tr>\n",
       "    <tr>\n",
       "      <th>2</th>\n",
       "      <td>Afghanistan</td>\n",
       "      <td>1752</td>\n",
       "      <td>NaN</td>\n",
       "      <td>NaN</td>\n",
       "      <td>NaN</td>\n",
       "    </tr>\n",
       "    <tr>\n",
       "      <th>3</th>\n",
       "      <td>Afghanistan</td>\n",
       "      <td>1753</td>\n",
       "      <td>NaN</td>\n",
       "      <td>NaN</td>\n",
       "      <td>NaN</td>\n",
       "    </tr>\n",
       "    <tr>\n",
       "      <th>4</th>\n",
       "      <td>Afghanistan</td>\n",
       "      <td>1754</td>\n",
       "      <td>NaN</td>\n",
       "      <td>NaN</td>\n",
       "      <td>NaN</td>\n",
       "    </tr>\n",
       "  </tbody>\n",
       "</table>\n",
       "</div>"
      ],
      "text/plain": [
       "       country  year  temperature_change_from_co2  co2_in_gt  ghg_in_gt\n",
       "0  Afghanistan  1750                          NaN        NaN        NaN\n",
       "1  Afghanistan  1751                          NaN        NaN        NaN\n",
       "2  Afghanistan  1752                          NaN        NaN        NaN\n",
       "3  Afghanistan  1753                          NaN        NaN        NaN\n",
       "4  Afghanistan  1754                          NaN        NaN        NaN"
      ]
     },
     "execution_count": 12,
     "metadata": {},
     "output_type": "execute_result"
    }
   ],
   "source": [
    "# Selects the necessary columns for analysis.\n",
    "new_df = df[['country', 'year', 'temperature_change_from_co2', 'co2_in_gt', 'ghg_in_gt']]\n",
    "new_df.head()"
   ]
  },
  {
   "cell_type": "code",
   "execution_count": 13,
   "id": "f4545fb0",
   "metadata": {
    "scrolled": true
   },
   "outputs": [],
   "source": [
    "# Remove NaN values\n",
    "new_df = new_df.dropna(subset=['co2_in_gt'])  "
   ]
  },
  {
   "cell_type": "code",
   "execution_count": 14,
   "id": "84f22753",
   "metadata": {
    "scrolled": false
   },
   "outputs": [
    {
     "data": {
      "image/png": "[encoded data removed]",
      "text/plain": [
       "<Figure size 720x432 with 1 Axes>"
      ]
     },
     "metadata": {
      "needs_background": "light"
     },
     "output_type": "display_data"
    }
   ],
   "source": [
    "# Filter for \"World\"\n",
    "world_data = new_df[new_df['country'] == 'World']\n",
    "\n",
    "# Line plot with matplotlib\n",
    "plt.figure(figsize=(10, 6))\n",
    "plt.plot(world_data['year'], world_data['co2_in_gt'], marker='o', linestyle='-', color='teal')\n",
    "\n",
    "# Add title and labels\n",
    "plt.title('Global CO2 Emissions Over Time', fontsize=14)\n",
    "plt.xlabel('Year', fontsize=12)\n",
    "plt.ylabel('CO2 Emissions (Gt)', fontsize=12)\n",
    "plt.grid(True)\n",
    "plt.show()"
   ]
  },
  {
   "cell_type": "markdown",
   "id": "422c6972",
   "metadata": {},
   "source": [
    "### Observation:\n",
    "- The CO<sub>2</sub> emission rate after 1950 is approximately **19 times higher** than in the years before, with a rate of 0.45 gigatonnes per year. (See code below.)"
   ]
  },
  {
   "cell_type": "code",
   "execution_count": 15,
   "id": "4e9719c5",
   "metadata": {},
   "outputs": [
    {
     "data": {
      "image/png": "[encoded data removed]",
      "text/plain": [
       "<Figure size 576x360 with 1 Axes>"
      ]
     },
     "metadata": {
      "needs_background": "light"
     },
     "output_type": "display_data"
    },
    {
     "name": "stdout",
     "output_type": "stream",
     "text": [
      "Pre-1950 Emission Rate: 0.02 Gt/year\n",
      "Post-1950 Emission Rate: 0.45 Gt/year\n",
      "The CO2 emission rate after 1950 is approximately 19.33 times higher than in the years before.\n"
     ]
    }
   ],
   "source": [
    "# Kyoto Protocol was adopted in 1997, came into effect in 2005\n",
    "pre_1950 = world_data[world_data['year'] < 1950]   # Before Kyoto\n",
    "post_1950 = world_data[world_data['year'] >= 1950]  # After Kyoto\n",
    "\n",
    "# Calculate Rate of Change (Slope)\n",
    "slope_pre, _, _, _, _ = linregress(pre_1950['year'], pre_1950['co2_in_gt'])\n",
    "slope_post, _, _, _, _ = linregress(post_1950['year'], post_1950['co2_in_gt'])\n",
    "\n",
    "# Plot Bar Graph\n",
    "labels = ['Pre-1950', 'Post-1950']\n",
    "values = [slope_pre, slope_post]\n",
    "\n",
    "plt.figure(figsize=(8, 5))\n",
    "plt.bar(labels, values, color=['green', 'orange'])\n",
    "plt.ylabel('CO2 Emission Change Rate (Gt/year)')\n",
    "plt.title('CO2 Emission Comparison (Pre & Post 1950)')\n",
    "plt.show()\n",
    "\n",
    "# Compare the rates\n",
    "comparison_factor = slope_post/slope_pre\n",
    "\n",
    "# Print Results\n",
    "print(f\"Pre-1950 Emission Rate: {slope_pre:.2f} Gt/year\")\n",
    "print(f\"Post-1950 Emission Rate: {slope_post:.2f} Gt/year\")\n",
    "print(f\"The CO2 emission rate after 1950 is approximately {comparison_factor:.2f} times higher than in the years before.\")\n",
    "\n"
   ]
  },
  {
   "cell_type": "markdown",
   "id": "1c15cf1a",
   "metadata": {},
   "source": [
    "___\n",
    "\n",
    "## 3.2 How CO₂ Emissions Have Influenced Temperature Change Over the Years"
   ]
  },
  {
   "cell_type": "code",
   "execution_count": 16,
   "id": "8bedc2e7",
   "metadata": {},
   "outputs": [
    {
     "data": {
      "image/png": "[encoded data removed]",
      "text/plain": [
       "<Figure size 720x432 with 2 Axes>"
      ]
     },
     "metadata": {
      "needs_background": "light"
     },
     "output_type": "display_data"
    }
   ],
   "source": [
    "# Plotting\n",
    "fig, ax1 = plt.subplots(figsize=(10, 6))\n",
    "\n",
    "# Primary y-axis for CO2 emissions\n",
    "ax1.bar(world_data['year'], world_data['co2_in_gt'], color='blue', label='CO2 Emissions (Gt)')\n",
    "ax1.set_xlabel('Year')\n",
    "ax1.set_ylabel('CO2 Emissions (Gt)', color='blue')\n",
    "ax1.tick_params(axis='y', labelcolor='blue')\n",
    "\n",
    "# Secondary y-axis for temperature change\n",
    "ax2 = ax1.twinx()\n",
    "ax2.plot(world_data['year'], world_data['temperature_change_from_co2'], color='red', marker='o', label='Temperature Change (°C)')\n",
    "ax2.set_ylabel('Temperature Change (°C)', color='red')\n",
    "ax2.tick_params(axis='y', labelcolor='red')\n",
    "\n",
    "# Adding title and legend\n",
    "fig.suptitle('CO2 Emissions and Temperature Change Over Time', fontsize=16)\n",
    "ax1.legend(loc='upper left')\n",
    "ax2.legend(loc='upper right')\n",
    "\n",
    "# Show plot\n",
    "plt.tight_layout()\n",
    "plt.show()\n"
   ]
  },
  {
   "cell_type": "markdown",
   "id": "2fc9d2f4",
   "metadata": {},
   "source": [
    "### Observation:\n",
    "1. After the year 1950, CO<sub>2</sub> emissions appear to increase drastically, with a noticeably steeper slope compared to the period from 1750 to 1950. Similarly, the slope of the temperature change also increases significantly, following a similar trend.\n",
    "\n",
    "\n",
    "2. Here, we only analyze CO<sub>2</sub> emissions from human activities. However, this does not account for the atmospheric CO<sub>2</sub> that has accumulated over time. This raises the question: **How has CO<sub>2</sub> accumulated in the atmosphere over time?**\n",
    "        \n",
    "\n",
    "### Further Study:\n",
    "- Suggestion: Examine atmospheric CO<sub>2</sub> levels alongside cumulative CO<sub>2</sub> emissions from human activities.\n",
    "\n",
    "\n",
    "- This dataset includes information on cumulative CO<sub>2</sub>, allowing for further analysis (see the graph below under section 3.3)."
   ]
  },
  {
   "cell_type": "markdown",
   "id": "e9023a69",
   "metadata": {},
   "source": [
    "___\n",
    "\n",
    "## 3.3 How Temperature Change Correlates with Cumulative CO₂ Emissions Due to Human Activities"
   ]
  },
  {
   "cell_type": "code",
   "execution_count": 17,
   "id": "1e356eef",
   "metadata": {
    "scrolled": false
   },
   "outputs": [
    {
     "data": {
      "image/png": "[encoded data removed]",
      "text/plain": [
       "<Figure size 720x432 with 2 Axes>"
      ]
     },
     "metadata": {
      "needs_background": "light"
     },
     "output_type": "display_data"
    }
   ],
   "source": [
    "# Convert 'cumulative_co2_including_luc' from Mt to Gt\n",
    "new_df['cumulative_co2_in_gt'] = df['cumulative_co2_including_luc'] / 1000\n",
    "\n",
    "# Filter for \"World\" as we will explore on a global scale for now\n",
    "world_data = new_df[new_df['country'] == 'World']\n",
    "\n",
    "\n",
    "# Plotting\n",
    "fig, ax1 = plt.subplots(figsize=(10, 6))\n",
    "\n",
    "# Primary y-axis for CO2 emissions\n",
    "ax1.bar(world_data['year'], world_data['cumulative_co2_in_gt'], color='blue', label='Cumulative CO2 Emissions (Gt)')\n",
    "ax1.set_xlabel('Year')\n",
    "ax1.set_ylabel('Cumulative CO2 Emissions (Gt)', color='blue')\n",
    "ax1.tick_params(axis='y', labelcolor='blue')\n",
    "\n",
    "# Secondary y-axis for temperature change\n",
    "ax2 = ax1.twinx()\n",
    "ax2.plot(world_data['year'], world_data['temperature_change_from_co2'], color='red', marker='o', label='Temperature Change (°C)')\n",
    "ax2.set_ylabel('Temperature Change (°C)', color='red')\n",
    "ax2.tick_params(axis='y', labelcolor='red')\n",
    "\n",
    "# Adding title and legend\n",
    "fig.suptitle('Cumulative CO2 Emissions and Temperature Change Over Time', fontsize=16)\n",
    "ax1.legend(loc='upper left')\n",
    "ax2.legend(loc='upper right')\n",
    "\n",
    "# Show plot\n",
    "plt.tight_layout()\n",
    "plt.show()\n"
   ]
  },
  {
   "cell_type": "markdown",
   "id": "33a9b157",
   "metadata": {},
   "source": [
    "### Observation:  \n",
    "1. This plot reveals a strong correlation between temperature change and cumulative CO<sub>2</sub> emissions. Notably, the increase in cumulative CO<sub>2</sub> emissions steepens between 1975 and 2024, with the trend in temperature change following a similar pattern.  \n",
    "\n",
    "2. However, information on atmospheric CO<sub>2</sub> levels remains incomplete.  \n",
    "\n",
    "### Further Study:  \n",
    "- To fully understand the situation, we need to analyze atmospheric CO<sub>2</sub> levels alongside other greenhouse gases (GHGs), as outlined in the Kyoto Protocol (adopted in 1997 and amended in 2012). Since these gases significantly contribute to global warming and climate change, comparing their levels against global temperature changes would provide deeper insights.\n",
    "\n",
    "___\n"
   ]
  },
  {
   "cell_type": "markdown",
   "id": "95ae6280",
   "metadata": {},
   "source": [
    "## 3.4 How Greenhouse Gas Emissions Have Evolved Over Time"
   ]
  },
  {
   "cell_type": "markdown",
   "id": "087b0040",
   "metadata": {},
   "source": [
    "### Kyoto Protocol\n",
    "According to the [Kyoto Protocol](https://unfccc.int/kyoto_protocol), organizations are required to limit and reduce not only CO<sub>2</sub> but also on other six [greenhouse gases](https://ec.europa.eu/eurostat/statistics-explained/index.php?title=Glossary:Greenhouse_gas_(GHG)) emissions, as they contribute to global warming and climate change.\n",
    "\n",
    "Kyoto basket\n",
    "\n",
    "    -  Non-fluorinated gases:\n",
    "\n",
    "        - Carbon dioxide (CO₂)\n",
    "        - Methane (CH₄)\n",
    "        - Nitrous oxide (N₂O)\n",
    "    - Fluorinated gases:\n",
    "\n",
    "        - Hydrofluorocarbons (HFCs)\n",
    "        - Perfluorocarbons (PFCs)\n",
    "        - Sulphur hexafluoride (SF₆)\n",
    "        - Nitrogen trifluoride (NF₃)\n",
    "\n",
    "___\n",
    "\n",
    "Kyoto Protocol was adopted in 1997, came into effect in 2005"
   ]
  },
  {
   "cell_type": "code",
   "execution_count": 18,
   "id": "bff0eaac",
   "metadata": {},
   "outputs": [
    {
     "data": {
      "image/png": "[encoded data removed]",
      "text/plain": [
       "<Figure size 720x432 with 1 Axes>"
      ]
     },
     "metadata": {
      "needs_background": "light"
     },
     "output_type": "display_data"
    },
    {
     "name": "stdout",
     "output_type": "stream",
     "text": [
      "The average GHG emission change rate is 0.29 Gt/year\n"
     ]
    }
   ],
   "source": [
    "# Drop NaN\n",
    "world_data.dropna(inplace=True)\n",
    "\n",
    "# Line plot with matplotlib\n",
    "plt.figure(figsize=(10, 6))\n",
    "plt.plot(world_data['year'], world_data['ghg_in_gt'], marker='o', linestyle='-', color='blue')\n",
    "\n",
    "# Add title and labels\n",
    "plt.title('Global Greenhouse Gas Emissions', fontsize=14)\n",
    "plt.xlabel('Year', fontsize=12)\n",
    "plt.ylabel('CO2 equivalents (Gt)', fontsize=12)\n",
    "plt.grid(True)\n",
    "plt.show()\n",
    "\n",
    "# Calculate Rate of Change (Slope)\n",
    "slope_pre, _, _, _, _ = linregress(world_data['year'], world_data['ghg_in_gt'])\n",
    "\n",
    "print(f\"The average GHG emission change rate is {slope_pre:.2f} Gt/year\")"
   ]
  },
  {
   "cell_type": "markdown",
   "id": "4a565c52",
   "metadata": {},
   "source": [
    "### 3.4.1 The GHG Emission Rate After the Kyoto Protocol\n",
    "- The Kyoto Protocol was adopted on December 11, 1997, and entered into force on February 16, 2005, after meeting the requirement that at least 55 countries, accounting for at least 55% of global GHG emissions, ratify it.\n",
    "\n",
    "\n",
    "- Therefore, we will examine the GHG emission rate before and after 2005 to assess its impact."
   ]
  },
  {
   "cell_type": "code",
   "execution_count": 19,
   "id": "a26e37e1",
   "metadata": {},
   "outputs": [
    {
     "data": {
      "image/png": "[encoded data removed]",
      "text/plain": [
       "<Figure size 576x360 with 1 Axes>"
      ]
     },
     "metadata": {
      "needs_background": "light"
     },
     "output_type": "display_data"
    },
    {
     "name": "stdout",
     "output_type": "stream",
     "text": [
      "Pre-Kyoto GHG Emission Rate (Slope): 0.25 Gt/year\n",
      "Post-Kyoto GHG Emission Rate (Slope): 0.41 Gt/year\n",
      "The GHG emission rate post-Kyoto Protocol is approximately 1.64 times higher than in pre-Kyoto Protocol.\n"
     ]
    }
   ],
   "source": [
    "# Remove NaN values\n",
    "world_data = world_data.dropna(subset=['ghg_in_gt'])\n",
    "\n",
    "# Kyoto Protocol was adopted in 1997, came into effect in 2005\n",
    "pre_kyoto = world_data[world_data['year'] < 2005]   # Before Kyoto\n",
    "post_kyoto = world_data[world_data['year'] >= 2005]  # After Kyoto\n",
    "\n",
    "# Calculate Rate of Change (Slope)\n",
    "slope_pre, _, _, _, _ = linregress(pre_kyoto['year'], pre_kyoto['ghg_in_gt'])\n",
    "slope_post, _, _, _, _ = linregress(post_kyoto['year'], post_kyoto['ghg_in_gt'])\n",
    "\n",
    "# Plot Bar Grap'\n",
    "labels = ['Pre-Kyoto Rate', 'Post-Kyoto Rate']\n",
    "values = [slope_pre, slope_post]\n",
    "\n",
    "plt.figure(figsize=(8, 5))\n",
    "plt.bar(labels, values, color=['pink', 'red'])\n",
    "plt.ylabel('GHG Emission Change Rate (Gt/year)')\n",
    "plt.title('GHG Emission Comparison (Pre & Post Kyoto Protocol)')\n",
    "plt.show()\n",
    "\n",
    "# Compare the rates\n",
    "comparison_factor = slope_post/slope_pre\n",
    "\n",
    "# Print Results\n",
    "print(f\"Pre-Kyoto GHG Emission Rate (Slope): {slope_pre:.2f} Gt/year\")\n",
    "print(f\"Post-Kyoto GHG Emission Rate (Slope): {slope_post:.2f} Gt/year\")\n",
    "print(f\"The GHG emission rate post-Kyoto Protocol is approximately {comparison_factor:.2f} times higher than in pre-Kyoto Protocol.\")\n"
   ]
  },
  {
   "cell_type": "markdown",
   "id": "8439f808",
   "metadata": {},
   "source": [
    "### Observation:\n",
    "- Over the course of 174 years, since records began in 1850, GHG emissions have steadily increased at a rate of approximately 290 million tonnes per year.\n",
    "\n",
    "\n",
    "- The GHG emission rate, especially after the Kyoto Protocol came into effect in 2005, has been increasing at a rate of 0.41 Gt/year, which is approximately 1.7 times higher than before the Protocol.\n",
    "\n",
    "\n",
    "- Despite the commitments made under the Kyoto Protocol, emissions have not only failed to decrease but have continued to rise without any significant slowdown.\n",
    "\n",
    "\n",
    "### Next Analysis:\n",
    "- What if we take a closer look at GHG emissions after the commitments under the Paris Agreement (2015)? Has there been any significant change at a global level?"
   ]
  },
  {
   "cell_type": "markdown",
   "id": "ee7d8f3d",
   "metadata": {},
   "source": [
    "### 3.4.2 The GHG Emission Rate After the Paris Agreement\n",
    "\n",
    "- The Paris Agreement entered into force on November 4, 2016, after being adopted on December 12, 2015, at COP21 in Paris.\n",
    "\n",
    "- Therefore, we will examine the GHG emission rate before and after 2016 to assess its impact."
   ]
  },
  {
   "cell_type": "code",
   "execution_count": 20,
   "id": "68f28cdb",
   "metadata": {},
   "outputs": [
    {
     "data": {
      "image/png": "[encoded data removed]",
      "text/plain": [
       "<Figure size 576x360 with 1 Axes>"
      ]
     },
     "metadata": {
      "needs_background": "light"
     },
     "output_type": "display_data"
    },
    {
     "name": "stdout",
     "output_type": "stream",
     "text": [
      "Pre-Paris GHG Emission Rate (Slope): 0.28 Gt/year\n",
      "Post-Paris GHG Emission Rate (Slope): 0.28 Gt/year\n",
      "The GHG emission rate post-Paris Agreement is approximately 1.02 times higher than in post-Paris Agreement.\n"
     ]
    }
   ],
   "source": [
    "pre_paris = world_data[world_data['year'] < 2016]   \n",
    "post_paris = world_data[world_data['year'] >= 2016]  \n",
    "\n",
    "# Calculate Rate of Change (Slope)\n",
    "slope_pre, _, _, _, _ = linregress(pre_paris['year'], pre_paris['ghg_in_gt'])\n",
    "slope_post, _, _, _, _ = linregress(post_paris['year'], post_paris['ghg_in_gt'])\n",
    "\n",
    "# Plot Bar Grap'\n",
    "labels = ['Pre-Paris Rate', 'Post-Paris Rate']\n",
    "values = [slope_pre, slope_post]\n",
    "\n",
    "plt.figure(figsize=(8, 5))\n",
    "plt.bar(labels, values, color=['gold', 'red'])\n",
    "plt.ylabel('GHG Emission Change Rate (Gt/year)')\n",
    "plt.title('GHG Emission Comparison (Pre & Post Paris Agreement)')\n",
    "plt.show()\n",
    "\n",
    "# Compare the rates\n",
    "comparison_factor = slope_post/slope_pre\n",
    "\n",
    "# Print Results\n",
    "print(f\"Pre-Paris GHG Emission Rate (Slope): {slope_pre:.2f} Gt/year\")\n",
    "print(f\"Post-Paris GHG Emission Rate (Slope): {slope_post:.2f} Gt/year\")\n",
    "print(f\"The GHG emission rate post-Paris Agreement is approximately {comparison_factor:.2f} times higher than in post-Paris Agreement.\")\n"
   ]
  },
  {
   "cell_type": "markdown",
   "id": "639314f4",
   "metadata": {},
   "source": [
    "### Key Differences Between Kyoto Protocol & Paris Agreement\n",
    "\n",
    " \n",
    "The **Kyoto Protocol** had **binding commitments for developed countries only**, whereas the **Paris Agreement** involves **all countries** with **voluntary commitments**.\n",
    "\n",
    "#### Kyoto Protocol (1997)\n",
    "##### 🔹 Binding Emission Targets:\n",
    "- Developed countries were given **legally binding targets** to reduce GHG emissions (collectively **5% below 1990 levels**).\n",
    "- Targets were set for a **commitment period (2008-2012)**.\n",
    "\n",
    "##### 🔹 Differentiated Responsibility:\n",
    "- Developed countries (**Annex I nations**) were expected to take the lead in emission reductions.\n",
    "- Developing countries (**non-Annex I nations**) were **not required** to have binding reduction targets.\n",
    "\n",
    "---\n",
    "\n",
    "#### Paris Agreement (2015)\n",
    "##### 🔹 Global Participation:\n",
    "- Unlike the Kyoto Protocol, the Paris Agreement **includes all countries** (both developed and developing) with **nationally determined contributions (NDCs)**.\n",
    "\n",
    "##### 🔹 Voluntary Emission Reductions:\n",
    "- Countries **set their own targets** for GHG reductions based on their **national circumstances, capabilities, and priorities**.\n",
    "- **No legally binding reduction targets**—instead, countries are encouraged to **update their NDCs every five years** and increase ambition.\n",
    "\n",
    "---\n",
    "\n",
    "### Observations:\n",
    "- Despite the **Kyoto Protocol's legally binding targets**, **GHG emissions continued to rise** after its implementation.  \n",
    "\n",
    "\n",
    "- The **Paris Agreement (effective since 2016)** has helped stabilize emissions. However, **it has failed to reduce emissions on a global scale**.\n",
    "\n",
    "  - This means emissions **are still accumulating in the atmosphere** and **worsening climate change**.  \n",
    "  \n",
    "  \n",
    "- Both the Kyoto Protocol and the Paris Agreement have failed to achieve significant global emission reductions, indicating that current policies are not effective enough, and a better approach is needed to tackle this issue.\n",
    "\n",
    "___\n"
   ]
  },
  {
   "cell_type": "markdown",
   "id": "95c3b24c",
   "metadata": {},
   "source": [
    "## Thoughts\n",
    "\n",
    "- The **atmosphere is a dynamic system**, with each greenhouse gas (GHG) having a distinct **lifespan and behavior**. Some GHGs are **naturally removed** through chemical reactions, making the system highly complex.  \n",
    "\n",
    "\n",
    "- To effectively **understand and manage** GHG emissions, we must consider **not only emission rates but also how gases transform and interact over time**. One way to establish a direct correlation is by **analyzing atmospheric components** and measuring the **concentration of each GHG relative to global temperature rise**.  \n",
    "\n",
    "\n",
    "- While **reducing GHG emissions alone does not fully account for global temperature changes**, and emissions may not completely explain temperature fluctuations, **tracking them is essential** for understanding and mitigating their impact. Monitoring emissions helps:  \n",
    "\n",
    "\n",
    "  - **Measure environmental impact** at corporate and national levels.  \n",
    "  - **Promote accountability** in climate action.  \n",
    "  - Enable **solutions** such as:  \n",
    "    - **GHG removal** from the atmosphere.  \n",
    "    - **Air treatment systems** before emissions are released.  \n",
    "    - **Emission reduction strategies** through better resource use.  \n",
    "    - **Optimizing production processes** for efficiency.  \n",
    "    - **Eliminating unnecessary emissions** to minimize waste.  \n",
    "\n",
    "## 🌍 Conclusion & Final Thoughts  \n",
    "\n",
    "### Why Tracking GHG Emissions is Critical  \n",
    "\n",
    "- **Tracking GHG emissions is the foundation of effective climate management.**  \n",
    "- Large industries, policymakers, stakeholders, and individuals **share the responsibility** of reducing emissions and **minimizing environmental impact**.  \n",
    "- **Consistent monitoring** helps us:  \n",
    "  - Gain insights into **corporate and industrial activities**.  \n",
    "  - Identify the **most effective strategies** for emission reduction.  \n",
    "  - Optimize **resource use and production efficiency**.  \n",
    "  - Shape **better global policies** to drive sustainability.  \n",
    "\n",
    "By **tracking, managing, and mitigating emissions**, we take a crucial step toward a cleaner, more sustainable future. 🌱  \n"
   ]
  },
  {
   "cell_type": "markdown",
   "id": "f262355d",
   "metadata": {},
   "source": [
    "## Any Thoughts?\n",
    "\n",
    "- The **atmosphere is a dynamic system**, and each greenhouse gas (GHG) has its own **lifespan**. Some GHGs are **removed through atmospheric chemical reactions**, making the system highly complex.  \n",
    "\n",
    "\n",
    "- To fully understand and manage this system effectively, we need to consider **not only emissions but also how these gases transform and are absorbed over time**. One way to establish a direct correlation is by **analyzing atmospheric components** and measuring the **concentration of each GHG relative to global temperature rise**.  \n",
    "\n",
    "\n",
    "- Although **GHG emissions alone may not fully explain global temperature changes**, **tracking emissions is essential** in understanding and mitigating their impact. Monitoring emissions helps:\n",
    "  - Measure a company's **contribution to environmental changes**.  \n",
    "  - **Promote accountability** in climate action.  \n",
    "  - Enable **solutions** like:\n",
    "    - GHG removal from the atmosphere.  \n",
    "    - Air treatment systems before emissions are released.  \n",
    "    - Emission reduction strategies.  \n",
    "    - Optimizing production processes.  \n",
    "    - Eliminating unnecessary emissions.\n",
    "    - etc.\n",
    "    \n",
    "___\n"
   ]
  },
  {
   "cell_type": "markdown",
   "id": "47fbc7b9",
   "metadata": {},
   "source": [
    "## 🌍 Conclusion & Final Thoughts  \n",
    "\n",
    "### Why Tracking GHG Emissions is Important  \n",
    "\n",
    "- **Tracking GHG emissions is the foundation of effective management.**  \n",
    "\n",
    "- Large industrial companies, partners, stakeholders, and even individuals **all share the responsibility** of managing emissions and **mitigating their environmental impact**.  \n",
    "\n",
    "- **Keeping track of emissions** helps us:  \n",
    "  - Understand **company and organizational activities**.  \n",
    "  - Identify **the best methods and solutions** to reduce emissions.  \n",
    "  - Optimize **production efficiency** with fewer resources.  \n",
    "  - Develop **better global policies** for a sustainable future.  \n",
    "  \n",
    "\n",
    "### By **monitoring and managing emissions**, we take a crucial step toward a cleaner, more sustainable world. 🌱  \n",
    "\n",
    "\n",
    "___"
   ]
  },
  {
   "cell_type": "markdown",
   "id": "f6ee8b1a",
   "metadata": {},
   "source": [
    "## References & Additional Resources for Further Research\n",
    "- [Global Temperature](https://data.giss.nasa.gov/gistemp/graphs/graph_data/Global_Mean_Estimates_based_on_Land_and_Ocean_Data/graph.txt)\n",
    "\n",
    "- [GLOBAL LAND-OCEAN TEMPERATURE INDEX](https://data.giss.nasa.gov/gistemp/graphs/graph_data/Global_Mean_Estimates_based_on_Land_and_Ocean_Data/graph.txt)\n",
    "Data source: NASA's Goddard Institute for Space Studies (GISS). Credit: NASA/GISS \n",
    "- [NOAA Global and Hemispheric Temperature Anomalies](https://www.ncei.noaa.gov/access/monitoring/climate-at-a-glance/global/time-series/globe/tavg/land_ocean/1/12/1850-2024)\n",
    "- [Kyoto Protocol Reference Manual](https://unfccc.int/resource/docs/publications/08_unfccc_kp_ref_manual.pdf)\n",
    "- [Main Greenhouse Gases](https://www.c2es.org/content/main-greenhouse-gases/)\n",
    "\n",
    "___"
   ]
  },
  {
   "cell_type": "code",
   "execution_count": null,
   "id": "9ed56ce2",
   "metadata": {},
   "outputs": [],
   "source": []
  }
 ],
 "metadata": {
  "kernelspec": {
   "display_name": "Python 3 (ipykernel)",
   "language": "python",
   "name": "python3"
  },
  "language_info": {
   "codemirror_mode": {
    "name": "ipython",
    "version": 3
   },
   "file_extension": ".py",
   "mimetype": "text/x-python",
   "name": "python",
   "nbconvert_exporter": "python",
   "pygments_lexer": "ipython3",
   "version": "3.10.1"
  }
 },
 "nbformat": 4,
 "nbformat_minor": 5
}
